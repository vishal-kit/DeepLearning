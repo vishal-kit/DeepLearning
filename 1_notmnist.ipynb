{
 "cells": [
  {
   "cell_type": "markdown",
   "metadata": {
    "colab_type": "text",
    "id": "5hIbr52I7Z7U"
   },
   "source": [
    "Deep Learning\n",
    "=============\n",
    "\n",
    "Assignment 1\n",
    "------------\n",
    "\n",
    "The objective of this assignment is to learn about simple data curation practices, and familiarize you with some of the data we'll be reusing later.\n",
    "\n",
    "This notebook uses the [notMNIST](http://yaroslavvb.blogspot.com/2011/09/notmnist-dataset.html) dataset to be used with python experiments. This dataset is designed to look like the classic [MNIST](http://yann.lecun.com/exdb/mnist/) dataset, while looking a little more like real data: it's a harder task, and the data is a lot less 'clean' than MNIST."
   ]
  },
  {
   "cell_type": "code",
   "execution_count": 1,
   "metadata": {
    "cellView": "both",
    "colab": {
     "autoexec": {
      "startup": false,
      "wait_interval": 0
     }
    },
    "colab_type": "code",
    "collapsed": true,
    "id": "apJbCsBHl-2A"
   },
   "outputs": [],
   "source": [
    "# These are all the modules we'll be using later. Make sure you can import them\n",
    "# before proceeding further.\n",
    "from __future__ import print_function\n",
    "import matplotlib.pyplot as plt\n",
    "import numpy as np\n",
    "import os\n",
    "import sys\n",
    "import tarfile\n",
    "from IPython.display import display, Image\n",
    "from scipy import ndimage\n",
    "from sklearn.linear_model import LogisticRegression\n",
    "from six.moves.urllib.request import urlretrieve\n",
    "from six.moves import cPickle as pickle\n",
    "\n",
    "# Config the matlotlib backend as plotting inline in IPython\n",
    "%matplotlib inline"
   ]
  },
  {
   "cell_type": "markdown",
   "metadata": {
    "colab_type": "text",
    "id": "jNWGtZaXn-5j"
   },
   "source": [
    "First, we'll download the dataset to our local machine. The data consists of characters rendered in a variety of fonts on a 28x28 image. The labels are limited to 'A' through 'J' (10 classes). The training set has about 500k and the testset 19000 labelled examples. Given these sizes, it should be possible to train models quickly on any machine."
   ]
  },
  {
   "cell_type": "code",
   "execution_count": 2,
   "metadata": {
    "cellView": "both",
    "colab": {
     "autoexec": {
      "startup": false,
      "wait_interval": 0
     },
     "output_extras": [
      {
       "item_id": 1
      }
     ]
    },
    "colab_type": "code",
    "collapsed": false,
    "executionInfo": {
     "elapsed": 186058,
     "status": "ok",
     "timestamp": 1444485672507,
     "user": {
      "color": "#1FA15D",
      "displayName": "Vincent Vanhoucke",
      "isAnonymous": false,
      "isMe": true,
      "permissionId": "05076109866853157986",
      "photoUrl": "//lh6.googleusercontent.com/-cCJa7dTDcgQ/AAAAAAAAAAI/AAAAAAAACgw/r2EZ_8oYer4/s50-c-k-no/photo.jpg",
      "sessionId": "2a0a5e044bb03b66",
      "userId": "102167687554210253930"
     },
     "user_tz": 420
    },
    "id": "EYRJ4ICW6-da",
    "outputId": "0d0f85df-155f-4a89-8e7e-ee32df36ec8d"
   },
   "outputs": [
    {
     "name": "stdout",
     "output_type": "stream",
     "text": [
      "Found and verified notMNIST_large.tar.gz\n",
      "Found and verified notMNIST_small.tar.gz\n"
     ]
    }
   ],
   "source": [
    "url = 'http://commondatastorage.googleapis.com/books1000/'\n",
    "last_percent_reported = None\n",
    "\n",
    "def download_progress_hook(count, blockSize, totalSize):\n",
    "  \"\"\"A hook to report the progress of a download. This is mostly intended for users with\n",
    "  slow internet connections. Reports every 1% change in download progress.\n",
    "  \"\"\"\n",
    "  global last_percent_reported\n",
    "  percent = int(count * blockSize * 100 / totalSize)\n",
    "\n",
    "  if last_percent_reported != percent:\n",
    "    if percent % 5 == 0:\n",
    "      sys.stdout.write(\"%s%%\" % percent)\n",
    "      sys.stdout.flush()\n",
    "    else:\n",
    "      sys.stdout.write(\".\")\n",
    "      sys.stdout.flush()\n",
    "      \n",
    "    last_percent_reported = percent\n",
    "        \n",
    "def maybe_download(filename, expected_bytes, force=False):\n",
    "  \"\"\"Download a file if not present, and make sure it's the right size.\"\"\"\n",
    "  if force or not os.path.exists(filename):\n",
    "    print('Attempting to download:', filename) \n",
    "    filename, _ = urlretrieve(url + filename, filename, reporthook=download_progress_hook)\n",
    "    print('\\nDownload Complete!')\n",
    "  statinfo = os.stat(filename)\n",
    "  if statinfo.st_size == expected_bytes:\n",
    "    print('Found and verified', filename)\n",
    "  else:\n",
    "    raise Exception(\n",
    "      'Failed to verify ' + filename + '. Can you get to it with a browser?')\n",
    "  return filename\n",
    "\n",
    "train_filename = maybe_download('notMNIST_large.tar.gz', 247336696)\n",
    "test_filename = maybe_download('notMNIST_small.tar.gz', 8458043)"
   ]
  },
  {
   "cell_type": "markdown",
   "metadata": {
    "colab_type": "text",
    "id": "cC3p0oEyF8QT"
   },
   "source": [
    "Extract the dataset from the compressed .tar.gz file.\n",
    "This should give you a set of directories, labelled A through J."
   ]
  },
  {
   "cell_type": "code",
   "execution_count": 3,
   "metadata": {
    "cellView": "both",
    "colab": {
     "autoexec": {
      "startup": false,
      "wait_interval": 0
     },
     "output_extras": [
      {
       "item_id": 1
      }
     ]
    },
    "colab_type": "code",
    "collapsed": false,
    "executionInfo": {
     "elapsed": 186055,
     "status": "ok",
     "timestamp": 1444485672525,
     "user": {
      "color": "#1FA15D",
      "displayName": "Vincent Vanhoucke",
      "isAnonymous": false,
      "isMe": true,
      "permissionId": "05076109866853157986",
      "photoUrl": "//lh6.googleusercontent.com/-cCJa7dTDcgQ/AAAAAAAAAAI/AAAAAAAACgw/r2EZ_8oYer4/s50-c-k-no/photo.jpg",
      "sessionId": "2a0a5e044bb03b66",
      "userId": "102167687554210253930"
     },
     "user_tz": 420
    },
    "id": "H8CBE-WZ8nmj",
    "outputId": "ef6c790c-2513-4b09-962e-27c79390c762"
   },
   "outputs": [
    {
     "name": "stdout",
     "output_type": "stream",
     "text": [
      "notMNIST_large already present - Skipping extraction of notMNIST_large.tar.gz.\n",
      "['notMNIST_large/A', 'notMNIST_large/B', 'notMNIST_large/C', 'notMNIST_large/D', 'notMNIST_large/E', 'notMNIST_large/F', 'notMNIST_large/G', 'notMNIST_large/H', 'notMNIST_large/I', 'notMNIST_large/J']\n",
      "notMNIST_small already present - Skipping extraction of notMNIST_small.tar.gz.\n",
      "['notMNIST_small/A', 'notMNIST_small/B', 'notMNIST_small/C', 'notMNIST_small/D', 'notMNIST_small/E', 'notMNIST_small/F', 'notMNIST_small/G', 'notMNIST_small/H', 'notMNIST_small/I', 'notMNIST_small/J']\n"
     ]
    }
   ],
   "source": [
    "num_classes = 10\n",
    "np.random.seed(133)\n",
    "\n",
    "def maybe_extract(filename, force=False):\n",
    "  root = os.path.splitext(os.path.splitext(filename)[0])[0]  # remove .tar.gz\n",
    "  if os.path.isdir(root) and not force:\n",
    "    # You may override by setting force=True.\n",
    "    print('%s already present - Skipping extraction of %s.' % (root, filename))\n",
    "  else:\n",
    "    print('Extracting data for %s. This may take a while. Please wait.' % root)\n",
    "    tar = tarfile.open(filename)\n",
    "    sys.stdout.flush()\n",
    "    tar.extractall()\n",
    "    tar.close()\n",
    "  data_folders = [\n",
    "    os.path.join(root, d) for d in sorted(os.listdir(root))\n",
    "    if os.path.isdir(os.path.join(root, d))]\n",
    "  if len(data_folders) != num_classes:\n",
    "    raise Exception(\n",
    "      'Expected %d folders, one per class. Found %d instead.' % (\n",
    "        num_classes, len(data_folders)))\n",
    "  print(data_folders)\n",
    "  return data_folders\n",
    "  \n",
    "train_folders = maybe_extract(train_filename)\n",
    "test_folders = maybe_extract(test_filename)"
   ]
  },
  {
   "cell_type": "markdown",
   "metadata": {
    "colab_type": "text",
    "id": "4riXK3IoHgx6"
   },
   "source": [
    "---\n",
    "Problem 1\n",
    "---------\n",
    "\n",
    "Let's take a peek at some of the data to make sure it looks sensible. Each exemplar should be an image of a character A through J rendered in a different font. Display a sample of the images that we just downloaded. Hint: you can use the package IPython.display.\n",
    "\n",
    "---"
   ]
  },
  {
   "cell_type": "code",
   "execution_count": 4,
   "metadata": {
    "collapsed": false
   },
   "outputs": [
    {
     "name": "stdout",
     "output_type": "stream",
     "text": [
      "(28, 28)\n"
     ]
    },
    {
     "data": {
      "text/plain": [
       "<matplotlib.image.AxesImage at 0x7fbd021c0290>"
      ]
     },
     "execution_count": 4,
     "metadata": {},
     "output_type": "execute_result"
    },
    {
     "data": {
      "image/png": "[encoded data removed]",
      "text/plain": [
       "<matplotlib.figure.Figure at 0x7fbd02274f50>"
      ]
     },
     "metadata": {},
     "output_type": "display_data"
    }
   ],
   "source": [
    "#Display images\n",
    "#\n",
    "img = plt.imread('notMNIST_small/J/MTIgV2FsYmF1bSBJdGFsaWMgMTMyNjMudHRm.png')\n",
    "print(img.shape)\n",
    "plt.imshow(img,cmap='gray')"
   ]
  },
  {
   "cell_type": "markdown",
   "metadata": {
    "colab_type": "text",
    "id": "PBdkjESPK8tw"
   },
   "source": [
    "Now let's load the data in a more manageable format. Since, depending on your computer setup you might not be able to fit it all in memory, we'll load each class into a separate dataset, store them on disk and curate them independently. Later we'll merge them into a single dataset of manageable size.\n",
    "\n",
    "We'll convert the entire dataset into a 3D array (image index, x, y) of floating point values, normalized to have approximately zero mean and standard deviation ~0.5 to make training easier down the road. \n",
    "\n",
    "A few images might not be readable, we'll just skip them."
   ]
  },
  {
   "cell_type": "code",
   "execution_count": 5,
   "metadata": {
    "cellView": "both",
    "colab": {
     "autoexec": {
      "startup": false,
      "wait_interval": 0
     },
     "output_extras": [
      {
       "item_id": 30
      }
     ]
    },
    "colab_type": "code",
    "collapsed": false,
    "executionInfo": {
     "elapsed": 399874,
     "status": "ok",
     "timestamp": 1444485886378,
     "user": {
      "color": "#1FA15D",
      "displayName": "Vincent Vanhoucke",
      "isAnonymous": false,
      "isMe": true,
      "permissionId": "05076109866853157986",
      "photoUrl": "//lh6.googleusercontent.com/-cCJa7dTDcgQ/AAAAAAAAAAI/AAAAAAAACgw/r2EZ_8oYer4/s50-c-k-no/photo.jpg",
      "sessionId": "2a0a5e044bb03b66",
      "userId": "102167687554210253930"
     },
     "user_tz": 420
    },
    "id": "h7q0XhG3MJdf",
    "outputId": "92c391bb-86ff-431d-9ada-315568a19e59"
   },
   "outputs": [
    {
     "name": "stdout",
     "output_type": "stream",
     "text": [
      "notMNIST_large/A.pickle already present - Skipping pickling.\n",
      "notMNIST_large/B.pickle already present - Skipping pickling.\n",
      "notMNIST_large/C.pickle already present - Skipping pickling.\n",
      "notMNIST_large/D.pickle already present - Skipping pickling.\n",
      "notMNIST_large/E.pickle already present - Skipping pickling.\n",
      "notMNIST_large/F.pickle already present - Skipping pickling.\n",
      "notMNIST_large/G.pickle already present - Skipping pickling.\n",
      "notMNIST_large/H.pickle already present - Skipping pickling.\n",
      "notMNIST_large/I.pickle already present - Skipping pickling.\n",
      "notMNIST_large/J.pickle already present - Skipping pickling.\n",
      "notMNIST_small/A.pickle already present - Skipping pickling.\n",
      "notMNIST_small/B.pickle already present - Skipping pickling.\n",
      "notMNIST_small/C.pickle already present - Skipping pickling.\n",
      "notMNIST_small/D.pickle already present - Skipping pickling.\n",
      "notMNIST_small/E.pickle already present - Skipping pickling.\n",
      "notMNIST_small/F.pickle already present - Skipping pickling.\n",
      "notMNIST_small/G.pickle already present - Skipping pickling.\n",
      "notMNIST_small/H.pickle already present - Skipping pickling.\n",
      "notMNIST_small/I.pickle already present - Skipping pickling.\n",
      "notMNIST_small/J.pickle already present - Skipping pickling.\n"
     ]
    }
   ],
   "source": [
    "image_size = 28  # Pixel width and height.\n",
    "pixel_depth = 255.0  # Number of levels per pixel.\n",
    "\n",
    "def load_letter(folder, min_num_images):\n",
    "  \"\"\"Load the data for a single letter label.\"\"\"\n",
    "  image_files = os.listdir(folder)\n",
    "  dataset = np.ndarray(shape=(len(image_files), image_size, image_size),\n",
    "                         dtype=np.float32)\n",
    "  print(folder)\n",
    "  num_images = 0\n",
    "  for image in image_files:\n",
    "    image_file = os.path.join(folder, image)\n",
    "    try:\n",
    "      image_data = (ndimage.imread(image_file).astype(float) - \n",
    "                    pixel_depth / 2) / pixel_depth\n",
    "      if image_data.shape != (image_size, image_size):\n",
    "        raise Exception('Unexpected image shape: %s' % str(image_data.shape))\n",
    "      dataset[num_images, :, :] = image_data\n",
    "      num_images = num_images + 1\n",
    "    except IOError as e:\n",
    "      print('Could not read:', image_file, ':', e, '- it\\'s ok, skipping.')\n",
    "    \n",
    "  dataset = dataset[0:num_images, :, :]\n",
    "  if num_images < min_num_images:\n",
    "    raise Exception('Many fewer images than expected: %d < %d' %\n",
    "                    (num_images, min_num_images))\n",
    "    \n",
    "  print('Full dataset tensor:', dataset.shape)\n",
    "  print('Mean:', np.mean(dataset))\n",
    "  print('Standard deviation:', np.std(dataset))\n",
    "  return dataset\n",
    "        \n",
    "def maybe_pickle(data_folders, min_num_images_per_class, force=False):\n",
    "  dataset_names = []\n",
    "  for folder in data_folders:\n",
    "    set_filename = folder + '.pickle'\n",
    "    dataset_names.append(set_filename)\n",
    "    if os.path.exists(set_filename) and not force:\n",
    "      # You may override by setting force=True.\n",
    "      print('%s already present - Skipping pickling.' % set_filename)\n",
    "    else:\n",
    "      print('Pickling %s.' % set_filename)\n",
    "      dataset = load_letter(folder, min_num_images_per_class)\n",
    "      try:\n",
    "        with open(set_filename, 'wb') as f:\n",
    "          pickle.dump(dataset, f, pickle.HIGHEST_PROTOCOL)\n",
    "      except Exception as e:\n",
    "        print('Unable to save data to', set_filename, ':', e)\n",
    "  \n",
    "  return dataset_names\n",
    "\n",
    "train_datasets = maybe_pickle(train_folders, 45000)\n",
    "test_datasets = maybe_pickle(test_folders, 1800)"
   ]
  },
  {
   "cell_type": "markdown",
   "metadata": {
    "colab_type": "text",
    "id": "vUdbskYE2d87"
   },
   "source": [
    "---\n",
    "Problem 2\n",
    "---------\n",
    "\n",
    "Let's verify that the data still looks good. Displaying a sample of the labels and images from the ndarray. Hint: you can use matplotlib.pyplot.\n",
    "\n",
    "---"
   ]
  },
  {
   "cell_type": "code",
   "execution_count": 6,
   "metadata": {
    "collapsed": false
   },
   "outputs": [
    {
     "name": "stdout",
     "output_type": "stream",
     "text": [
      "['notMNIST_large/A.pickle', 'notMNIST_large/B.pickle', 'notMNIST_large/C.pickle', 'notMNIST_large/D.pickle', 'notMNIST_large/E.pickle', 'notMNIST_large/F.pickle', 'notMNIST_large/G.pickle', 'notMNIST_large/H.pickle', 'notMNIST_large/I.pickle', 'notMNIST_large/J.pickle']\n"
     ]
    }
   ],
   "source": [
    "#check the output file names\n",
    "print (train_datasets)"
   ]
  },
  {
   "cell_type": "code",
   "execution_count": 8,
   "metadata": {
    "collapsed": false
   },
   "outputs": [
    {
     "name": "stdout",
     "output_type": "stream",
     "text": [
      "notMNIST_large/A.pickle\n",
      "notMNIST_large/A.pickle (52909, 28, 28)\n"
     ]
    },
    {
     "data": {
      "text/plain": [
       "<matplotlib.image.AxesImage at 0x7fbd0208a0d0>"
      ]
     },
     "execution_count": 8,
     "metadata": {},
     "output_type": "execute_result"
    },
    {
     "data": {
      "image/png": "[encoded data removed]",
      "text/plain": [
       "<matplotlib.figure.Figure at 0x7fbd0224f490>"
      ]
     },
     "metadata": {},
     "output_type": "display_data"
    }
   ],
   "source": [
    "#get an image and display\n",
    "file_name = train_datasets[0]\n",
    "print (file_name)\n",
    "sample_data = pickle.load(open(file_name,'rb'))\n",
    "print(file_name,sample_data.shape)\n",
    "plt.imshow(sample_data[52908,:,:],cmap='gray')"
   ]
  },
  {
   "cell_type": "markdown",
   "metadata": {
    "colab_type": "text",
    "id": "cYznx5jUwzoO"
   },
   "source": [
    "---\n",
    "Problem 3\n",
    "---------\n",
    "Another check: we expect the data to be balanced across classes. Verify that.\n",
    "\n",
    "---"
   ]
  },
  {
   "cell_type": "code",
   "execution_count": 9,
   "metadata": {
    "collapsed": false
   },
   "outputs": [
    {
     "name": "stdout",
     "output_type": "stream",
     "text": [
      "notMNIST_large/A.pickle (52909, 28, 28)\n",
      "notMNIST_large/B.pickle (52911, 28, 28)\n",
      "notMNIST_large/C.pickle (52912, 28, 28)\n",
      "notMNIST_large/D.pickle (52911, 28, 28)\n",
      "notMNIST_large/E.pickle (52912, 28, 28)\n",
      "notMNIST_large/F.pickle (52912, 28, 28)\n",
      "notMNIST_large/G.pickle (52912, 28, 28)\n",
      "notMNIST_large/H.pickle (52912, 28, 28)\n",
      "notMNIST_large/I.pickle (52912, 28, 28)\n",
      "notMNIST_large/J.pickle (52911, 28, 28)\n",
      "notMNIST_small/A.pickle (1872, 28, 28)\n",
      "notMNIST_small/B.pickle (1873, 28, 28)\n",
      "notMNIST_small/C.pickle (1873, 28, 28)\n",
      "notMNIST_small/D.pickle (1873, 28, 28)\n",
      "notMNIST_small/E.pickle (1873, 28, 28)\n",
      "notMNIST_small/F.pickle (1872, 28, 28)\n",
      "notMNIST_small/G.pickle (1872, 28, 28)\n",
      "notMNIST_small/H.pickle (1872, 28, 28)\n",
      "notMNIST_small/I.pickle (1872, 28, 28)\n",
      "notMNIST_small/J.pickle (1872, 28, 28)\n"
     ]
    }
   ],
   "source": [
    "# parse to check the dataset\n",
    "for fileName in train_datasets:\n",
    "    sampleData = pickle.load(open(fileName,'rb'))\n",
    "    print(fileName,sampleData.shape)\n",
    "    \n",
    "for fileName in test_datasets:\n",
    "    sampleData = pickle.load(open(fileName,'rb'))\n",
    "    print(fileName,sampleData.shape)"
   ]
  },
  {
   "cell_type": "markdown",
   "metadata": {
    "colab_type": "text",
    "id": "LA7M7K22ynCt"
   },
   "source": [
    "Merge and prune the training data as needed. Depending on your computer setup, you might not be able to fit it all in memory, and you can tune `train_size` as needed. The labels will be stored into a separate array of integers 0 through 9.\n",
    "\n",
    "Also create a validation dataset for hyperparameter tuning."
   ]
  },
  {
   "cell_type": "code",
   "execution_count": 10,
   "metadata": {
    "cellView": "both",
    "colab": {
     "autoexec": {
      "startup": false,
      "wait_interval": 0
     },
     "output_extras": [
      {
       "item_id": 1
      }
     ]
    },
    "colab_type": "code",
    "collapsed": false,
    "executionInfo": {
     "elapsed": 411281,
     "status": "ok",
     "timestamp": 1444485897869,
     "user": {
      "color": "#1FA15D",
      "displayName": "Vincent Vanhoucke",
      "isAnonymous": false,
      "isMe": true,
      "permissionId": "05076109866853157986",
      "photoUrl": "//lh6.googleusercontent.com/-cCJa7dTDcgQ/AAAAAAAAAAI/AAAAAAAACgw/r2EZ_8oYer4/s50-c-k-no/photo.jpg",
      "sessionId": "2a0a5e044bb03b66",
      "userId": "102167687554210253930"
     },
     "user_tz": 420
    },
    "id": "s3mWgZLpyuzq",
    "outputId": "8af66da6-902d-4719-bedc-7c9fb7ae7948"
   },
   "outputs": [
    {
     "name": "stdout",
     "output_type": "stream",
     "text": [
      "Training: (200000, 28, 28) (200000,)\n",
      "Validation: (10000, 28, 28) (10000,)\n",
      "Testing: (10000, 28, 28) (10000,)\n"
     ]
    }
   ],
   "source": [
    "def make_arrays(nb_rows, img_size):\n",
    "  if nb_rows:\n",
    "    dataset = np.ndarray((nb_rows, img_size, img_size), dtype=np.float32)\n",
    "    labels = np.ndarray(nb_rows, dtype=np.int32)\n",
    "  else:\n",
    "    dataset, labels = None, None\n",
    "  return dataset, labels\n",
    "\n",
    "def merge_datasets(pickle_files, train_size, valid_size=0):\n",
    "  num_classes = len(pickle_files)\n",
    "  valid_dataset, valid_labels = make_arrays(valid_size, image_size)\n",
    "  train_dataset, train_labels = make_arrays(train_size, image_size)\n",
    "  vsize_per_class = valid_size // num_classes\n",
    "  tsize_per_class = train_size // num_classes\n",
    "    \n",
    "  start_v, start_t = 0, 0\n",
    "  end_v, end_t = vsize_per_class, tsize_per_class\n",
    "  end_l = vsize_per_class+tsize_per_class\n",
    "  for label, pickle_file in enumerate(pickle_files):       \n",
    "    try:\n",
    "      with open(pickle_file, 'rb') as f:\n",
    "        letter_set = pickle.load(f)\n",
    "        # let's shuffle the letters to have random validation and training set\n",
    "        np.random.shuffle(letter_set)\n",
    "        if valid_dataset is not None:\n",
    "          valid_letter = letter_set[:vsize_per_class, :, :]\n",
    "          valid_dataset[start_v:end_v, :, :] = valid_letter\n",
    "          valid_labels[start_v:end_v] = label\n",
    "          start_v += vsize_per_class\n",
    "          end_v += vsize_per_class\n",
    "                    \n",
    "        train_letter = letter_set[vsize_per_class:end_l, :, :]\n",
    "        train_dataset[start_t:end_t, :, :] = train_letter\n",
    "        train_labels[start_t:end_t] = label\n",
    "        start_t += tsize_per_class\n",
    "        end_t += tsize_per_class\n",
    "    except Exception as e:\n",
    "      print('Unable to process data from', pickle_file, ':', e)\n",
    "      raise\n",
    "    \n",
    "  return valid_dataset, valid_labels, train_dataset, train_labels\n",
    "            \n",
    "            \n",
    "train_size = 200000\n",
    "valid_size = 10000\n",
    "test_size = 10000\n",
    "\n",
    "valid_dataset, valid_labels, train_dataset, train_labels = merge_datasets(\n",
    "  train_datasets, train_size, valid_size)\n",
    "_, _, test_dataset, test_labels = merge_datasets(test_datasets, test_size)\n",
    "\n",
    "print('Training:', train_dataset.shape, train_labels.shape)\n",
    "print('Validation:', valid_dataset.shape, valid_labels.shape)\n",
    "print('Testing:', test_dataset.shape, test_labels.shape)"
   ]
  },
  {
   "cell_type": "markdown",
   "metadata": {
    "colab_type": "text",
    "id": "GPTCnjIcyuKN"
   },
   "source": [
    "Next, we'll randomize the data. It's important to have the labels well shuffled for the training and test distributions to match."
   ]
  },
  {
   "cell_type": "code",
   "execution_count": 11,
   "metadata": {
    "cellView": "both",
    "colab": {
     "autoexec": {
      "startup": false,
      "wait_interval": 0
     }
    },
    "colab_type": "code",
    "collapsed": true,
    "id": "6WZ2l2tN2zOL"
   },
   "outputs": [],
   "source": [
    "def randomize(dataset, labels):\n",
    "  permutation = np.random.permutation(labels.shape[0])\n",
    "  shuffled_dataset = dataset[permutation,:,:]\n",
    "  shuffled_labels = labels[permutation]\n",
    "  return shuffled_dataset, shuffled_labels\n",
    "train_dataset, train_labels = randomize(train_dataset, train_labels)\n",
    "test_dataset, test_labels = randomize(test_dataset, test_labels)\n",
    "valid_dataset, valid_labels = randomize(valid_dataset, valid_labels)"
   ]
  },
  {
   "cell_type": "markdown",
   "metadata": {
    "colab_type": "text",
    "id": "puDUTe6t6USl"
   },
   "source": [
    "---\n",
    "Problem 4\n",
    "---------\n",
    "Convince yourself that the data is still good after shuffling!\n",
    "\n",
    "---"
   ]
  },
  {
   "cell_type": "code",
   "execution_count": 17,
   "metadata": {
    "collapsed": false
   },
   "outputs": [
    {
     "name": "stdout",
     "output_type": "stream",
     "text": [
      "[4 9 6 ..., 2 4 4]\n"
     ]
    },
    {
     "data": {
      "image/png": "[encoded data removed]",
      "text/plain": [
       "<matplotlib.figure.Figure at 0x7fbd01e482d0>"
      ]
     },
     "metadata": {},
     "output_type": "display_data"
    }
   ],
   "source": [
    "plt.imshow(train_dataset[40000,:,:],cmap='gray')\n",
    "print(train_labels)"
   ]
  },
  {
   "cell_type": "markdown",
   "metadata": {
    "colab_type": "text",
    "id": "tIQJaJuwg5Hw"
   },
   "source": [
    "Finally, let's save the data for later reuse:"
   ]
  },
  {
   "cell_type": "code",
   "execution_count": 19,
   "metadata": {
    "cellView": "both",
    "colab": {
     "autoexec": {
      "startup": false,
      "wait_interval": 0
     }
    },
    "colab_type": "code",
    "collapsed": true,
    "id": "QiR_rETzem6C"
   },
   "outputs": [],
   "source": [
    "pickle_file = 'notMNIST.pickle'\n",
    "\n",
    "try:\n",
    "  f = open(pickle_file, 'wb')\n",
    "  save = {\n",
    "    'train_dataset': train_dataset,\n",
    "    'train_labels': train_labels,\n",
    "    'valid_dataset': valid_dataset,\n",
    "    'valid_labels': valid_labels,\n",
    "    'test_dataset': test_dataset,\n",
    "    'test_labels': test_labels,\n",
    "    }\n",
    "  pickle.dump(save, f, pickle.HIGHEST_PROTOCOL)\n",
    "  f.close()\n",
    "except Exception as e:\n",
    "  print('Unable to save data to', pickle_file, ':', e)\n",
    "  raise"
   ]
  },
  {
   "cell_type": "code",
   "execution_count": 20,
   "metadata": {
    "cellView": "both",
    "colab": {
     "autoexec": {
      "startup": false,
      "wait_interval": 0
     },
     "output_extras": [
      {
       "item_id": 1
      }
     ]
    },
    "colab_type": "code",
    "collapsed": false,
    "executionInfo": {
     "elapsed": 413065,
     "status": "ok",
     "timestamp": 1444485899688,
     "user": {
      "color": "#1FA15D",
      "displayName": "Vincent Vanhoucke",
      "isAnonymous": false,
      "isMe": true,
      "permissionId": "05076109866853157986",
      "photoUrl": "//lh6.googleusercontent.com/-cCJa7dTDcgQ/AAAAAAAAAAI/AAAAAAAACgw/r2EZ_8oYer4/s50-c-k-no/photo.jpg",
      "sessionId": "2a0a5e044bb03b66",
      "userId": "102167687554210253930"
     },
     "user_tz": 420
    },
    "id": "hQbLjrW_iT39",
    "outputId": "b440efc6-5ee1-4cbc-d02d-93db44ebd956"
   },
   "outputs": [
    {
     "name": "stdout",
     "output_type": "stream",
     "text": [
      "Compressed pickle size: 690800441\n"
     ]
    }
   ],
   "source": [
    "statinfo = os.stat(pickle_file)\n",
    "print('Compressed pickle size:', statinfo.st_size)"
   ]
  },
  {
   "cell_type": "markdown",
   "metadata": {
    "colab_type": "text",
    "id": "gE_cRAQB33lk"
   },
   "source": [
    "---\n",
    "Problem 5\n",
    "---------\n",
    "\n",
    "By construction, this dataset might contain a lot of overlapping samples, including training data that's also contained in the validation and test set! Overlap between training and test can skew the results if you expect to use your model in an environment where there is never an overlap, but are actually ok if you expect to see training samples recur when you use it.\n",
    "Measure how much overlap there is between training, validation and test samples.\n",
    "\n",
    "Optional questions:\n",
    "- What about near duplicates between datasets? (images that are almost identical)\n",
    "- Create a sanitized validation and test set, and compare your accuracy on those in subsequent assignments.\n",
    "---"
   ]
  },
  {
   "cell_type": "code",
   "execution_count": 24,
   "metadata": {
    "collapsed": false
   },
   "outputs": [],
   "source": [
    "# load pickel file for analysis\n",
    "data = pickle.load(open(\"notMNIST.pickle\",'rb'))\n",
    "train_dataset = data['train_dataset']\n",
    "test_dataset = data['test_dataset']\n",
    "valid_dataset = data['valid_dataset']\n",
    "\n",
    "test_labels = data['test_labels']\n",
    "train_labels = data['train_labels']\n",
    "valid_labels = data['valid_labels']"
   ]
  },
  {
   "cell_type": "code",
   "execution_count": 31,
   "metadata": {
    "collapsed": true
   },
   "outputs": [],
   "source": [
    "testoverlap = 0\n",
    "validoverlap =0\n",
    "\n",
    "testOverlapInds = []\n",
    "validOverlapInds = []"
   ]
  },
  {
   "cell_type": "code",
   "execution_count": 32,
   "metadata": {
    "collapsed": false
   },
   "outputs": [
    {
     "name": "stdout",
     "output_type": "stream",
     "text": [
      ".!!................!............!.....!..!.....!........!...!.............!.........!....!..........!..............!.........!...!.!!.............!......................!....!..!!...!!.....!......!............!..............!!....!!!.......!........!......................!....................!....................!......!..!..............!........!.........!....!..........!....!...........!.!....!........!...!.....!...!........!.......!.....!....!...............................!......!!..!..!!.............!......!.....!..........................!..!....!!..!........!.....!......!.........!!!.............!....!.........!!!....!.......!...!......!...............!.............!..........!.....!..........!....!.........!..........................!................!..........!....!......!....................!....!.......!..!..................!..........!..........!.............!....!..........!..................!...!................!......!.!.............!..........!.........!...........!!!!!...!.!.........!.!...........!.......!!..............!.......!......!...........!........!!.................!.......!......!.........!....!..........!...!..............................!!.!.........!.................!..........!...!!!...........!.......!.!.......!.........!.!!.!!.....!.............!.....!..........!.................!.!.!........................!........!..!!..!!!.........!.........!................!.!........!.!...........!.!!.!...!.!...!......!........!.......!............!.....!.!!.........!................!...............!.............!..!!..........!......!..........................!.!.........!..!..!...!..!..............!......!......!..!.............!.....!!...........!..!..........!.....!....!....!....!...!............!....!.........!......!..!..!..............!...............................!..!!.!...................!.!........!......!!..!...........!.!..........!.!..........!......!........!.!.......!......!.!...!.........!.............!...........!..!!....................!...!....!!.....!.........!...................................!.................!!.!......!...............!..!.!....!.!...............!....!......!......................................!.....!.....!.............!......................!....!............!..!.!...!..!.......!...................!.!.....!...!...!...........!..!.......!.......!.............!!..........!...................!...!.......!...!.......!.....!...!.!...!.....!!.......!..!...!......!.....!...!....!..!................!.........!...!......!.........!........!!.....!.....!..........!...!......................................!..!.......!.....!.!.........!...........!....!.........................!..................!................!!!....!!..................!.....!....!......!...................!.....!...............!!....!.!...!..!.!.....!.........!..........!!..............!..!..!...!..!....................................!!.....!.!....!......!.....!........!!..!!!....!.......!...!.!..!...!!..!...!.!.......!....!..!...!........!...........!...!...!!.....!.............!.......!..............!.!........!!.!.!.....................!.........!..!.............!..................!.!.......!!.....!..............!.!...!...!!......!..!........!!.....!.....!....!...!.....!...!.!....!.........!................!......!...!!...!.!..!.!.....!...!..........!.!.....!.............!....!..............!!!...!...!...!.....!......!........................!.......!......!..!!...!.....!..........!!.......!......................!.!....!!.!.......!.....................!...................!.......!...!!...!..........................!................!!!..!............!!.............!!...................!...!!....!.....!.................!...............!!.!.....!..............!.........!........!......!...!...!...!.!....!.............!..!..!..!........................!.........!...........!.!...!..!...................!..!!...!...!......!.!.!...................!.......!.......!.............!....!............!.!.........!.................!..!!!.......................!.........!..............!.........!............!...!........!...!!........!!........!.......................!.......!.!...........!.........!.....!....!.......!...........!.!.......!...!..!....!......!.....!......................!........!.!!...........!................!.!....!..............!..!..!.!..........!...!...!...!!.!................!!..!...!...!.........!............!......!......................!!........!..!..!!......!....!....!......!!..............!.......!..!............!............!...!...!......!....!..!..........!....!...........!...!!..!..............................!.!.....!.!...!..!..........!..................!......!............!......!...!.!........!...........!......!.....!...!......!......!.......!.!..................................!....!.....!........!.......!........!.!...!......................................!............!....!!...................!.!..!......!!.!...!.......................!.....!...!......................!..!........!...............!.......!.............!.....!...................!.....!...........!.....!..............!..................!..........!!....!...!.!.!.....!......................!...............!....!...!.....!!.....!.........!.....................!.....!!.........!...!!..!.........!!.......!...!.......!...............................!..!............!...!......!.....!..!..........................!.............!..!.......................!....!.........!.!!.!...!....!.......!..!.!.!...!.!....!....!.......!........!.............!!..............!..!..............!.......................................!!..!...............!....!....!...........!.!!........!..!.!....!..!...........................!....!.!..............!..........!.!....................!.....!!....!.....................!....................!....!.........!...............!..!............!.....!....!.................................!.!.!......!............!..!...............................!.....................!..!...........!...............!....!...!....!!.!..........!.....!............!.....!..........!..!.!!...!..........!!!...!!...........!..........!.......!..........!...............!...........................!!.......!..!.....!....!...................!....!....!.!.!...!........!............!.......................!....!..............................!!..!......!.........!..!...........!.!..!..!........!...!.....!...!!!......!....!......................!......................!..............!......!..............................!.!...!....................................................!..!...!.......!!...............!.................!.!...!...........!...................!....!...!!...!.................!!.......!............!....!....!!!......................................!...................!!............!........!...!........................!...............!!...................!!...........!!...!...............!.....!.!........................!.!..!...!.........!........!.....!.!.....!.......!.........!.........!..............!.....!............................!.............!..........................!.......!.................................!!............................................!!..!........!................!................!.............!.............!....!..........!...!...!...............!.....!.....................!.......!.!.!......!..!..!!..........!.......!....!................!...............!...!..............!...................!.!......!.!.!.!.......!.......................!.!.....!...................!..............!!!..!!..................!..!....!.................!.....!...!.!...!...........!...................!.!....!...!.....!...!................................!.........!!.............!.!............!...!!........!.!...!........!.......!!......!..........!....!...................!..!!..!!........!...........!...........!..!........!.....!.!............!.!!...!.!............!.!.!.!..!.!............!!........!..............!..!.!!..!.!.........!..!.!.............................................!.!..!.....!!......!.!...........!!!............!.....!....................................!.........!.!!...!.....!..............!................!.!....!.!..................!!........!.............................!.!..!........!..!!......................!...!....!.........!!....................................!.............!....!..!....!.........................!............!.....!..!.!......!...!!............!!...!.!.!!..............!.!.......!...!.!...!.!.!..!.!..!....!......!.....!...!...!.!.!.....!..............!..............!...............!......!....!............!..........................!...!....!..!.!....!.....!......!.!....................!...!..!..........!..!....!!.......!..!.................!....!.............!........!....!......!.....................!....!........!.!.......................................!.!!.............!.....!.........!............!..................................!...!.............!.!!..........!.......!..........!!..!!....!...!........!..!.....!...!.....!!.!...!...........!!....!.!.................!!........!!..!!!...!....!............!.......!.!!....!.......!.....!.......!..!.!..!!.!!...!....!....!...!.............!..........!.......!..........!...!............!...!.......!......!..!!.....!.!..!!...!........!...!.!........!....!......!....!...!.!.....!....!...!...............!..!.!..!....!....!...!!!............!...!...............!.................!.!.......!....!.......!.!.................!...!!......!...!......!..!................!..!.......!..........!..!!.....!.............!!...!...........!..............................!.................!.......................!...!.......!!.................!.!...........................!.....!.!......!!............!!.........!....!!.........!.................!.!..................!.......................!........!.......................!!....!.....!..!!............!.!...!....!........!!.!....................!.............."
     ]
    }
   ],
   "source": [
    "#parse throught the train, test and validation set for finding overlaps\n",
    "test_dataset.shape[0]\n",
    "\n",
    "for testInd in range(test_dataset.shape[0]):\n",
    "    refImg = test_dataset[testInd,:,:]\n",
    "    boolArry = (refImg == train_dataset)\n",
    "    if np.any(np.all(boolArry,axis=(1,2))):\n",
    "        testoverlap += 1\n",
    "        testOverlapInds.append(testInd)\n",
    "        sys.stdout.write('!')\n",
    "    else:\n",
    "        sys.stdout.write('.')"
   ]
  },
  {
   "cell_type": "code",
   "execution_count": 34,
   "metadata": {
    "collapsed": false
   },
   "outputs": [
    {
     "name": "stdout",
     "output_type": "stream",
     "text": [
      ".!...!............................!............!...............!..!.........!!.........!..........!!...!..!...!........!.................!....!!...!...!...!............!......................!....!.......!.......!.........................!....!!....!...............!..........!...!.!.....!......!......!.....!!.!..!..........!.....!.........!....!..!......!......................!....!........!.!.........!....!.............!....!.....!..............!.!.........!.............!............!........................!.......................!...!................!.!.!....................!.....!.!.....!....!......!.........!....!..!.....................!........!................!.!.....!.............!......!.....!.....!........................!.!....!.!.................!!...!.!.....!..!........!..!..........................!.......................................................!...........................!...!......!........!..!.............!.........................!............!......!......!...!....................!.!.....!....................!..............!......!........................!.!.................................!...!!..................................!......!...!!!!....!!.........!........................!!!...!......!.!..............!......!..!..........!!..........!.......!.........!!..!....................!!.....................!.....!...!..............!.............................!...............!..........!........!........!...!..!.....................!...................!.......!.......!..!......!......!........!........!...!..........!..!..............!....!...!..!...............!...!...!....!!...............!......................!......!.......!.........!........!..!!......!..!..!.....!....!.......................................................!!....!......!.....!..............!..............................................!........................!.....!.............!!....!.!.............!......................!......!...........!!........!...!.................!...............!.............!...................!.......!.................!.....!...!.....!..!......!!.!.!.............!.!!...!...!........................!.....!..!...!..................!.........!................!..!..!................!..............!......!..................!......................!.!...!.!......!..........!..............!.!..!...!.....!!....................!............!.................!.........!.....!..............!.!....!................!!........!............!.!........!..!......!.........!...!!...!....!.....................!!.............!..!........!!............!.............!..........!......................!....!!...............................!.........!...!.!........!..........!.......!......................!..........!........!!.....!!...........!.....................!..!..........................!.!.!!....!.!.!.....!..!........!.....!.!.!........!..!..!.............!!!............!.!..............!.........!..!..!..!.!!.........................!...!....!..............................!............................!...!.................!........!..!..................!...!.........................!.....!.!.!.!.........!...!.................................!....!.......................!.......!..!....!...............!.......!......................!......!.!..!.................!.......................!....!...........!..!..............!.........!.........!........!.!...........................!....!.................!..!!....!.................................!...!...!................!.!.!.....!..........!!............!...!.............!............!...!.......!.!.......!...!.!...........!................................!.!.!..........!...............!........................!..!....!.....!.....!.........!.!.!....................!!.................................!...........................!!....!.....................!.!.........!..........................!....!.....!.!.....!.......!!..!....!...............!............................!!.......!.....!.......!...!.!.................!......................!..........................!.......!.....................................!...!.....!......................!...!..!..........!........!.!!....!..!.!!!.!...............!.!..!.....!....!......!...........!......!.................!........!.!...................!............................!...........!..!.....!.......!.....!.!...........................!............!..!.!..............!..................!.......!....................!..........!..!!!.........................!.!...!.!..!................!.....................!........!..!....!...!........!.....!.........!.....!........................................!......!........!.......!........!..!........!.......!........!!!!.....!!......!.........!..!....................!...........!....!.......!..!..!..............!....!!............!.....!...!.......!!!!..!.....!......!............!..................!...............!...........!.....................!!..!..........!.......................!..........!..!...!.......!.......!............!......................!............!.......!!..!..!...!..!..!!.!................!...!..............!..........................!.....!!............!!..................!.............!.......!...........................!...!.....!...!.!....!............................................!..........!.....!........!........!......!.........!!................................!.............!!.................................!.!!.................!..!.!............!........!................!.........................!......!.....!......................!.......!.........!..!........................................!..!...................!..........!.........!.!..!..........!........!.............!......!...!!...!...!.....!.!...!....!!.!......!...........!.....!......!......!.....!....!...................!...!.........!.............................!..!...........!....!...!..!....!........................!............!..............!.........!..!.!!....!.!...!....................!......!..!..........................!...!......!.....!.............!!.........!...........!..........!..........!.....!.....................!.................!..!.............................................................!....!........................................!.....!!...!............!............!!....!..................!....!.!......!......!.!......!.......!....!.....................!...........................!...!..!!......!!!....!....!.......!..........!..............................!..........!.........!..............!....!............!.........!...........!!...................................!!...................!..........!................................!.....!!......!...........!...........................!...!!......!........!....................!..!....!.................!......!!!..........................!..!!..!.....!!............!...!..!..........!......!..............!..............!...!!..!.............!...!......................!..!..!....!..........!...............!..!....!....!...........!.....!!!!.............!.......!.!..!....!......!.......!..!........................!......!......!!........!!.......!..!..........!...................!!!............!......!!!...!!........!!....!.......................!!....!....!........!........!..................!!.............!....!....!......!...............................!!......................!....!.............................!........................!..!........!.......!...........!.!..!..!.......!!!.........!...!................................!.......!.....!!..!.!..................................!.........!....................!!.....................!...!!..................!...........................!......!.!.............!..........!..........................!..........!....!...........!................!!..........!.........!......!.!.....!......!.....!......!.......!.....!...!........................................!...!....!.......!..!......!...............................!..!...!.........!!.............!.............!..........!!.!.!.!..............!...........................!...........!..!.!..........................!.....................!.!..!.........!......!!.........!.......!........!...!.!.....!.....!!...............!..........................!...!...........!.............!...!.....!....!......!...!!.!................!...............!.!......!.!....!....!..............................................!.......!!.....................!............!..!.........!............!.......!.............!......!.......!.........!.............!.....!............!............!.!!............!.!.......!...........................................!...........!.............!!..................!.!!.....!..!!...!.........!...!........!.........!..!..!....!.....!.....!.........!........!...!....!!...........!.....!.....!....!............!.....!!......!......!..!!.!.............!..........!..........!..............!...!........!..!......................!...!.......!........!...........!..............!............!......!..!.............!..!!!...!.....!.........!......!.!!......!....!.......!..............!!!..........!..!.....!.........!!.....!..............!.......!................................!........!.!..........!.........!................................!....!...!.......!..........!...!...!.!!.....!.......................!.........................!...!......................!.......!!................!.......................!....!............!..!....!....!...............!....!........................!.........................!....................!...............!................!............!..........................!..!....................!!.!.........!...........!....!..!................!.....................!!!.....!......!.......!...!..........!...!....!..!..............................!.!..!!......!!.........!...................................!!.!..!.........!....!..!...............!....!..!."
     ]
    }
   ],
   "source": [
    "# loop over validation images\n",
    "for vInd in range(valid_size):\n",
    "    refImg = valid_dataset[vInd,:,:]\n",
    "    boolArry = (refImg==train_dataset)\n",
    "    if np.any(np.all(boolArry,axis=(1,2))):\n",
    "        validoverlap += 1\n",
    "        validOverlapInds.append(vInd)\n",
    "        sys.stdout.write('!')\n",
    "    else:\n",
    "        sys.stdout.write('.')"
   ]
  },
  {
   "cell_type": "code",
   "execution_count": 37,
   "metadata": {
    "collapsed": false
   },
   "outputs": [
    {
     "name": "stdout",
     "output_type": "stream",
     "text": [
      "1286 1094\n",
      "(8714,) (8906,) (8714, 28, 28) (8906, 28, 28)\n"
     ]
    }
   ],
   "source": [
    "# check the overlap for similar images\n",
    "print(testoverlap,validoverlap)\n",
    "\n",
    "testSize = test_dataset.shape[0]-testoverlap\n",
    "validSize = valid_dataset.shape[0]-validoverlap\n",
    "\n",
    "# remove the overlap and save the remaining points\n",
    "testLabels = np.delete(test_labels,testOverlapInds)\n",
    "validLabels = np.delete(valid_labels,validOverlapInds)\n",
    "\n",
    "testDataset = np.delete(test_dataset,testOverlapInds,axis=0)\n",
    "validDataset = np.delete(valid_dataset,validOverlapInds,axis=0)\n",
    "\n",
    "print(testLabels.shape,validLabels.shape,testDataset.shape,validDataset.shape)"
   ]
  },
  {
   "cell_type": "code",
   "execution_count": 38,
   "metadata": {
    "collapsed": true
   },
   "outputs": [],
   "source": [
    "# save all the variables for pickle file\n",
    "pickle_file = 'notMNISTClean.pickle'\n",
    "\n",
    "try:\n",
    "    f = open(pickle_file, 'wb')\n",
    "    save = {'validOverlapInds':validOverlapInds,\n",
    "            'validDataset': validDataset,\n",
    "            'validLabels': validLabels,\n",
    "            'testOverlapInds':testOverlapInds,\n",
    "            'testDataset': testDataset,\n",
    "            'testLabels': testLabels,\n",
    "           }\n",
    "\n",
    "    pickle.dump(save, f, pickle.HIGHEST_PROTOCOL)\n",
    "    f.close()\n",
    "\n",
    "except Exception as e:\n",
    "    print('Unable to save data to', pickle_file, ':', e)\n",
    "    raise"
   ]
  },
  {
   "cell_type": "markdown",
   "metadata": {
    "colab_type": "text",
    "id": "L8oww1s4JMQx"
   },
   "source": [
    "---\n",
    "Problem 6\n",
    "---------\n",
    "\n",
    "Let's get an idea of what an off-the-shelf classifier can give you on this data. It's always good to check that there is something to learn, and that it's a problem that is not so trivial that a canned solution solves it.\n",
    "\n",
    "Train a simple model on this data using 50, 100, 1000 and 5000 training samples. Hint: you can use the LogisticRegression model from sklearn.linear_model.\n",
    "\n",
    "Optional question: train an off-the-shelf model on all the data!\n",
    "\n",
    "---"
   ]
  },
  {
   "cell_type": "code",
   "execution_count": 42,
   "metadata": {
    "collapsed": true
   },
   "outputs": [],
   "source": [
    "#load Pickel for analysis\n",
    "\n",
    "data = pickle.load(open('notMNIST.pickle','rb'))\n",
    "\n",
    "test_labels = data['test_labels']\n",
    "train_labels = data['train_labels']\n",
    "valid_labels = data['valid_labels']\n",
    "\n",
    "test_dataset = data['test_dataset']\n",
    "train_dataset = data['train_dataset']\n",
    "valid_dataset = data['valid_dataset']"
   ]
  },
  {
   "cell_type": "code",
   "execution_count": 43,
   "metadata": {
    "collapsed": true
   },
   "outputs": [],
   "source": [
    "#load the new pickel file\n",
    "data = pickle.load(open('notMNISTClean.pickle','rb'))\n",
    "\n",
    "testLabels1 = data['testLabels']\n",
    "validLabels1 = data['validLabels']\n",
    "\n",
    "testDataset1 = data['testDataset']\n",
    "validDataset1 = data['validDataset']\n"
   ]
  },
  {
   "cell_type": "code",
   "execution_count": 44,
   "metadata": {
    "collapsed": false
   },
   "outputs": [
    {
     "name": "stdout",
     "output_type": "stream",
     "text": [
      "Test set (10000, 784) (10000,)\n",
      "Training set (200000, 784) (200000,)\n",
      "Validation set (10000, 784) (10000,)\n",
      "Test set (8714, 784) (8714,)\n",
      "Validation set (8906, 784) (8906,)\n"
     ]
    }
   ],
   "source": [
    "#normalize the dataset\n",
    "image_size = 28\n",
    "num_labels = 10\n",
    "\n",
    "def reformat(dataset, labels):\n",
    "    dataset = dataset.reshape((-1, image_size * image_size)).astype(np.float32)\n",
    "    labels = (np.arange(num_labels) == labels[:,None]).astype(np.float32)\n",
    "    return dataset, labels\n",
    "\n",
    "test_dataset_norm,test_labels_out = reformat(test_dataset,test_labels)\n",
    "train_dataset_norm,train_labels_out = reformat(train_dataset,train_labels)\n",
    "valid_dataset_norm,valid_labels_out = reformat(valid_dataset,valid_labels)\n",
    "\n",
    "testDatasetNorm1,testLabelsOut1 = reformat(testDataset1,testLabels1)\n",
    "validDatasetNorm1,validLabelsOut1 = reformat(validDataset1,validLabels1)\n",
    "\n",
    "#testDatasetNorm2,testLabelsOut2 = reformat(testDataset2,testLabels2)\n",
    "#validDatasetNorm2,validLabelsOut2 = reformat(validDataset2,validLabels2)\n",
    "\n",
    "\n",
    "print('Test set', test_dataset_norm.shape, test_labels.shape)\n",
    "print('Training set', train_dataset_norm.shape, train_labels.shape)\n",
    "print('Validation set', valid_dataset_norm.shape, valid_labels.shape)\n",
    "\n",
    "print('Test set', testDatasetNorm1.shape, testLabels1.shape)\n",
    "#print('Test set', testDatasetNorm2.shape, testLabels2.shape)\n",
    "\n",
    "print('Validation set', validDatasetNorm1.shape, validLabels1.shape)\n",
    "#print('Validation set', validDatasetNorm2.shape, validLabels2.shape)"
   ]
  },
  {
   "cell_type": "code",
   "execution_count": 45,
   "metadata": {
    "collapsed": false
   },
   "outputs": [
    {
     "name": "stdout",
     "output_type": "stream",
     "text": [
      "50\n"
     ]
    },
    {
     "name": "stderr",
     "output_type": "stream",
     "text": [
      "[Parallel(n_jobs=1)]: Done   1 out of   1 | elapsed:    0.3s finished\n"
     ]
    },
    {
     "name": "stdout",
     "output_type": "stream",
     "text": [
      "Results:\n",
      "Train Accuracy: 100.000000\n",
      "Test Accuracy: 54.970000,53.339454\n",
      "Validation Accuracy: 50.890000,49.404896\n",
      "100\n"
     ]
    },
    {
     "name": "stderr",
     "output_type": "stream",
     "text": [
      "[Parallel(n_jobs=1)]: Done   1 out of   1 | elapsed:    0.2s finished\n"
     ]
    },
    {
     "name": "stdout",
     "output_type": "stream",
     "text": [
      "Results:\n",
      "Train Accuracy: 100.000000\n",
      "Test Accuracy: 70.310000,68.705531\n",
      "Validation Accuracy: 64.350000,62.721761\n",
      "500\n"
     ]
    },
    {
     "name": "stderr",
     "output_type": "stream",
     "text": [
      "[Parallel(n_jobs=1)]: Done   1 out of   1 | elapsed:    0.6s finished\n"
     ]
    },
    {
     "name": "stdout",
     "output_type": "stream",
     "text": [
      "Results:\n",
      "Train Accuracy: 100.000000\n",
      "Test Accuracy: 83.310000,81.925637\n",
      "Validation Accuracy: 76.420000,74.994386\n",
      "1000\n"
     ]
    },
    {
     "name": "stderr",
     "output_type": "stream",
     "text": [
      "[Parallel(n_jobs=1)]: Done   1 out of   1 | elapsed:    1.3s finished\n"
     ]
    },
    {
     "name": "stdout",
     "output_type": "stream",
     "text": [
      "Results:\n",
      "Train Accuracy: 99.900000\n",
      "Test Accuracy: 84.070000,82.591232\n",
      "Validation Accuracy: 77.170000,75.611947\n",
      "5000\n"
     ]
    },
    {
     "name": "stderr",
     "output_type": "stream",
     "text": [
      "[Parallel(n_jobs=1)]: Done   1 out of   1 | elapsed:    8.4s finished\n"
     ]
    },
    {
     "name": "stdout",
     "output_type": "stream",
     "text": [
      "Results:\n",
      "Train Accuracy: 97.360000\n",
      "Test Accuracy: 84.260000,82.740418\n",
      "Validation Accuracy: 77.030000,75.454750\n",
      "10000\n"
     ]
    },
    {
     "name": "stderr",
     "output_type": "stream",
     "text": [
      "[Parallel(n_jobs=1)]: Done   1 out of   1 | elapsed:   23.3s finished\n"
     ]
    },
    {
     "name": "stdout",
     "output_type": "stream",
     "text": [
      "Results:\n",
      "Train Accuracy: 92.470000\n",
      "Test Accuracy: 85.710000,84.358504\n",
      "Validation Accuracy: 78.470000,77.049180\n",
      "50000\n"
     ]
    },
    {
     "name": "stderr",
     "output_type": "stream",
     "text": [
      "[Parallel(n_jobs=1)]: Done   1 out of   1 | elapsed:  3.2min finished\n"
     ]
    },
    {
     "name": "stdout",
     "output_type": "stream",
     "text": [
      "Results:\n",
      "Train Accuracy: 85.126000\n",
      "Test Accuracy: 88.520000,87.273353\n",
      "Validation Accuracy: 81.830000,80.642264\n"
     ]
    }
   ],
   "source": [
    "#Model training\n",
    "model = LogisticRegression(solver='lbfgs',max_iter=1000,multi_class='multinomial',\n",
    "                           verbose=1,tol=1e-5)\n",
    "\n",
    "trainSizes = [50,100,500,1000,5000,10000,50000]#,100000,train_size]\n",
    "for trainSize in trainSizes:\n",
    "    # training data size\n",
    "    print(trainSize)\n",
    "    model.fit(train_dataset_norm[:trainSize,:],train_labels[:trainSize])\n",
    "\n",
    "    # get the training, validation and test errors\n",
    "    trainError = model.score(train_dataset_norm[:trainSize,:],train_labels[:trainSize])\n",
    "\n",
    "    testError = model.score(test_dataset_norm,test_labels)\n",
    "    validError = model.score(valid_dataset_norm,valid_labels)\n",
    "\n",
    "    testError1 = model.score(testDatasetNorm1,testLabels1)\n",
    "    validError1 = model.score(validDatasetNorm1,validLabels1)\n",
    "\n",
    "    #testError2 = model.score(testDatasetNorm2,testLabels2)\n",
    "    #validError2 = model.score(validDatasetNorm2,validLabels2)\n",
    "    \n",
    "    print('Results:')\n",
    "    print('Train Accuracy: %f' % (100*trainError))\n",
    "    print('Test Accuracy: %f,%f' % (100*testError,100*testError1))#,100*testError2))\n",
    "    print('Validation Accuracy: %f,%f' % (100*validError,100*validError1))#,100*validError2))"
   ]
  },
  {
   "cell_type": "code",
   "execution_count": null,
   "metadata": {
    "collapsed": true
   },
   "outputs": [],
   "source": []
  }
 ],
 "metadata": {
  "colab": {
   "default_view": {},
   "name": "1_notmnist.ipynb",
   "provenance": [],
   "version": "0.3.2",
   "views": {}
  },
  "kernelspec": {
   "display_name": "Python 2",
   "language": "python",
   "name": "python2"
  },
  "language_info": {
   "codemirror_mode": {
    "name": "ipython",
    "version": 2
   },
   "file_extension": ".py",
   "mimetype": "text/x-python",
   "name": "python",
   "nbconvert_exporter": "python",
   "pygments_lexer": "ipython2",
   "version": "2.7.6"
  }
 },
 "nbformat": 4,
 "nbformat_minor": 0
}
